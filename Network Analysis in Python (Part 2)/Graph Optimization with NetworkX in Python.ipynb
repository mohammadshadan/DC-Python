{
 "cells": [
  {
   "cell_type": "markdown",
   "metadata": {},
   "source": [
    "This NetworkX tutorial will show you how to do graph optimization in Python by solving the Chinese Postman Problem in Python."
   ]
  },
  {
   "cell_type": "markdown",
   "metadata": {},
   "source": [
    "https://www.datacamp.com/community/tutorials/networkx-python-graph-tutorial"
   ]
  },
  {
   "cell_type": "markdown",
   "metadata": {},
   "source": [
    "You've probably heard of the Travelling Salesman Problem which amounts to finding the shortest route (say, roads) that connects a set of nodes (say, cities). Although lesser known, the Chinese Postman Problem (CPP), also referred to as the Route Inspection or Arc Routing problem, is quite similar. The objective of the CPP is to find the shortest path that covers all the links (roads) on a graph at least once. If this is possible without doubling back on the same road twice, great; That's the ideal scenario and the problem is quite simple. However, if some roads must be traversed more than once, you need some math to find the shortest route that hits every road at least once with the lowest total mileage."
   ]
  },
  {
   "cell_type": "markdown",
   "metadata": {},
   "source": [
    "Edge List\n",
    "\n",
    "The edge list is a simple data structure that you'll use to create the graph. Each row represents a single edge of the graph with some edge attributes.\n",
    "node1 & node2: names of the nodes connected.\n",
    "trail: edge attribute indicating the abbreviated name of the trail for each edge. For example: rs = red square\n",
    "distance: edge attribute indicating trail length in miles.\n",
    "color: trail color used for plotting.\n",
    "estimate: edge attribute indicating whether the edge distance is estimated from eyeballing the trailmap (1=yes, 0=no) as some distances are not provided. This is solely for reference; it is not used for analysis."
   ]
  },
  {
   "cell_type": "code",
   "execution_count": 1,
   "metadata": {
    "collapsed": true
   },
   "outputs": [],
   "source": [
    "import itertools\n",
    "import copy\n",
    "import networkx as nx\n",
    "import pandas as pd\n",
    "import matplotlib.pyplot as plt"
   ]
  },
  {
   "cell_type": "code",
   "execution_count": null,
   "metadata": {
    "collapsed": true
   },
   "outputs": [],
   "source": []
  },
  {
   "cell_type": "code",
   "execution_count": null,
   "metadata": {
    "collapsed": true
   },
   "outputs": [],
   "source": [
    "# Grab edge list data hosted on Gist\n",
    "edgelist = pd.read_csv('https://gist.githubusercontent.com/brooksandrew/e570c38bcc72a8d102422f2af836513b/raw/89c76b2563dbc0e88384719a35cba0dfc04cd522/edgelist_sleeping_giant.csv')"
   ]
  },
  {
   "cell_type": "code",
   "execution_count": 4,
   "metadata": {
    "collapsed": true
   },
   "outputs": [],
   "source": [
    "edgelist = pd.read_csv('edgelist_sleeping_giant.csv')"
   ]
  },
  {
   "cell_type": "code",
   "execution_count": 6,
   "metadata": {
    "collapsed": false
   },
   "outputs": [
    {
     "data": {
      "text/html": [
       "<div>\n",
       "<style>\n",
       "    .dataframe thead tr:only-child th {\n",
       "        text-align: right;\n",
       "    }\n",
       "\n",
       "    .dataframe thead th {\n",
       "        text-align: left;\n",
       "    }\n",
       "\n",
       "    .dataframe tbody tr th {\n",
       "        vertical-align: top;\n",
       "    }\n",
       "</style>\n",
       "<table border=\"1\" class=\"dataframe\">\n",
       "  <thead>\n",
       "    <tr style=\"text-align: right;\">\n",
       "      <th></th>\n",
       "      <th>node1</th>\n",
       "      <th>node2</th>\n",
       "      <th>trail</th>\n",
       "      <th>distance</th>\n",
       "      <th>color</th>\n",
       "      <th>estimate</th>\n",
       "    </tr>\n",
       "  </thead>\n",
       "  <tbody>\n",
       "    <tr>\n",
       "      <th>0</th>\n",
       "      <td>rs_end_north</td>\n",
       "      <td>v_rs</td>\n",
       "      <td>rs</td>\n",
       "      <td>0.30</td>\n",
       "      <td>red</td>\n",
       "      <td>0</td>\n",
       "    </tr>\n",
       "    <tr>\n",
       "      <th>1</th>\n",
       "      <td>v_rs</td>\n",
       "      <td>b_rs</td>\n",
       "      <td>rs</td>\n",
       "      <td>0.21</td>\n",
       "      <td>red</td>\n",
       "      <td>0</td>\n",
       "    </tr>\n",
       "    <tr>\n",
       "      <th>2</th>\n",
       "      <td>b_rs</td>\n",
       "      <td>g_rs</td>\n",
       "      <td>rs</td>\n",
       "      <td>0.11</td>\n",
       "      <td>red</td>\n",
       "      <td>0</td>\n",
       "    </tr>\n",
       "    <tr>\n",
       "      <th>3</th>\n",
       "      <td>g_rs</td>\n",
       "      <td>w_rs</td>\n",
       "      <td>rs</td>\n",
       "      <td>0.18</td>\n",
       "      <td>red</td>\n",
       "      <td>0</td>\n",
       "    </tr>\n",
       "    <tr>\n",
       "      <th>4</th>\n",
       "      <td>w_rs</td>\n",
       "      <td>o_rs</td>\n",
       "      <td>rs</td>\n",
       "      <td>0.21</td>\n",
       "      <td>red</td>\n",
       "      <td>0</td>\n",
       "    </tr>\n",
       "    <tr>\n",
       "      <th>5</th>\n",
       "      <td>o_rs</td>\n",
       "      <td>y_rs</td>\n",
       "      <td>rs</td>\n",
       "      <td>0.12</td>\n",
       "      <td>red</td>\n",
       "      <td>0</td>\n",
       "    </tr>\n",
       "    <tr>\n",
       "      <th>6</th>\n",
       "      <td>y_rs</td>\n",
       "      <td>rs_end_south</td>\n",
       "      <td>rs</td>\n",
       "      <td>0.39</td>\n",
       "      <td>red</td>\n",
       "      <td>0</td>\n",
       "    </tr>\n",
       "    <tr>\n",
       "      <th>7</th>\n",
       "      <td>rc_end_north</td>\n",
       "      <td>v_rc</td>\n",
       "      <td>rc</td>\n",
       "      <td>0.70</td>\n",
       "      <td>red</td>\n",
       "      <td>0</td>\n",
       "    </tr>\n",
       "    <tr>\n",
       "      <th>8</th>\n",
       "      <td>v_rc</td>\n",
       "      <td>b_rc</td>\n",
       "      <td>rc</td>\n",
       "      <td>0.04</td>\n",
       "      <td>red</td>\n",
       "      <td>0</td>\n",
       "    </tr>\n",
       "    <tr>\n",
       "      <th>9</th>\n",
       "      <td>b_rc</td>\n",
       "      <td>g_rc</td>\n",
       "      <td>rc</td>\n",
       "      <td>0.15</td>\n",
       "      <td>red</td>\n",
       "      <td>0</td>\n",
       "    </tr>\n",
       "    <tr>\n",
       "      <th>10</th>\n",
       "      <td>g_rc</td>\n",
       "      <td>o_rc</td>\n",
       "      <td>rc</td>\n",
       "      <td>0.13</td>\n",
       "      <td>red</td>\n",
       "      <td>0</td>\n",
       "    </tr>\n",
       "    <tr>\n",
       "      <th>11</th>\n",
       "      <td>o_rc</td>\n",
       "      <td>w_rc</td>\n",
       "      <td>rc</td>\n",
       "      <td>0.23</td>\n",
       "      <td>red</td>\n",
       "      <td>1</td>\n",
       "    </tr>\n",
       "    <tr>\n",
       "      <th>12</th>\n",
       "      <td>w_rc</td>\n",
       "      <td>y_rc</td>\n",
       "      <td>rc</td>\n",
       "      <td>0.14</td>\n",
       "      <td>red</td>\n",
       "      <td>0</td>\n",
       "    </tr>\n",
       "    <tr>\n",
       "      <th>13</th>\n",
       "      <td>y_rc</td>\n",
       "      <td>rc_end_south</td>\n",
       "      <td>rc</td>\n",
       "      <td>0.36</td>\n",
       "      <td>red</td>\n",
       "      <td>0</td>\n",
       "    </tr>\n",
       "    <tr>\n",
       "      <th>14</th>\n",
       "      <td>rt_end_north</td>\n",
       "      <td>v_rt</td>\n",
       "      <td>rt</td>\n",
       "      <td>0.30</td>\n",
       "      <td>red</td>\n",
       "      <td>0</td>\n",
       "    </tr>\n",
       "    <tr>\n",
       "      <th>15</th>\n",
       "      <td>v_rt</td>\n",
       "      <td>tt_rt</td>\n",
       "      <td>rt</td>\n",
       "      <td>0.16</td>\n",
       "      <td>red</td>\n",
       "      <td>0</td>\n",
       "    </tr>\n",
       "    <tr>\n",
       "      <th>16</th>\n",
       "      <td>tt_rt</td>\n",
       "      <td>b_rt</td>\n",
       "      <td>rt</td>\n",
       "      <td>0.04</td>\n",
       "      <td>red</td>\n",
       "      <td>1</td>\n",
       "    </tr>\n",
       "    <tr>\n",
       "      <th>17</th>\n",
       "      <td>b_rt</td>\n",
       "      <td>g_rt</td>\n",
       "      <td>rt</td>\n",
       "      <td>0.09</td>\n",
       "      <td>red</td>\n",
       "      <td>0</td>\n",
       "    </tr>\n",
       "    <tr>\n",
       "      <th>18</th>\n",
       "      <td>g_rt</td>\n",
       "      <td>o_rt</td>\n",
       "      <td>rt</td>\n",
       "      <td>0.05</td>\n",
       "      <td>red</td>\n",
       "      <td>1</td>\n",
       "    </tr>\n",
       "    <tr>\n",
       "      <th>19</th>\n",
       "      <td>o_rt</td>\n",
       "      <td>w_rt</td>\n",
       "      <td>rt</td>\n",
       "      <td>0.06</td>\n",
       "      <td>red</td>\n",
       "      <td>0</td>\n",
       "    </tr>\n",
       "  </tbody>\n",
       "</table>\n",
       "</div>"
      ],
      "text/plain": [
       "           node1         node2 trail  distance color  estimate\n",
       "0   rs_end_north          v_rs    rs      0.30   red         0\n",
       "1           v_rs          b_rs    rs      0.21   red         0\n",
       "2           b_rs          g_rs    rs      0.11   red         0\n",
       "3           g_rs          w_rs    rs      0.18   red         0\n",
       "4           w_rs          o_rs    rs      0.21   red         0\n",
       "5           o_rs          y_rs    rs      0.12   red         0\n",
       "6           y_rs  rs_end_south    rs      0.39   red         0\n",
       "7   rc_end_north          v_rc    rc      0.70   red         0\n",
       "8           v_rc          b_rc    rc      0.04   red         0\n",
       "9           b_rc          g_rc    rc      0.15   red         0\n",
       "10          g_rc          o_rc    rc      0.13   red         0\n",
       "11          o_rc          w_rc    rc      0.23   red         1\n",
       "12          w_rc          y_rc    rc      0.14   red         0\n",
       "13          y_rc  rc_end_south    rc      0.36   red         0\n",
       "14  rt_end_north          v_rt    rt      0.30   red         0\n",
       "15          v_rt         tt_rt    rt      0.16   red         0\n",
       "16         tt_rt          b_rt    rt      0.04   red         1\n",
       "17          b_rt          g_rt    rt      0.09   red         0\n",
       "18          g_rt          o_rt    rt      0.05   red         1\n",
       "19          o_rt          w_rt    rt      0.06   red         0"
      ]
     },
     "execution_count": 6,
     "metadata": {},
     "output_type": "execute_result"
    }
   ],
   "source": [
    "# Preview edgelist\n",
    "edgelist.head(20)"
   ]
  },
  {
   "cell_type": "code",
   "execution_count": 2,
   "metadata": {
    "collapsed": true
   },
   "outputs": [],
   "source": [
    "# Grab node list data hosted on Gist\n",
    "nodelist = pd.read_csv('nodelist_sleeping_giant.csv')"
   ]
  },
  {
   "cell_type": "code",
   "execution_count": 3,
   "metadata": {
    "collapsed": false
   },
   "outputs": [
    {
     "data": {
      "text/html": [
       "<div>\n",
       "<table border=\"1\" class=\"dataframe\">\n",
       "  <thead>\n",
       "    <tr style=\"text-align: right;\">\n",
       "      <th></th>\n",
       "      <th>id</th>\n",
       "      <th>X</th>\n",
       "      <th>Y</th>\n",
       "    </tr>\n",
       "  </thead>\n",
       "  <tbody>\n",
       "    <tr>\n",
       "      <th>0</th>\n",
       "      <td>b_bv</td>\n",
       "      <td>1486</td>\n",
       "      <td>732</td>\n",
       "    </tr>\n",
       "    <tr>\n",
       "      <th>1</th>\n",
       "      <td>b_bw</td>\n",
       "      <td>716</td>\n",
       "      <td>1357</td>\n",
       "    </tr>\n",
       "    <tr>\n",
       "      <th>2</th>\n",
       "      <td>b_end_east</td>\n",
       "      <td>3164</td>\n",
       "      <td>1111</td>\n",
       "    </tr>\n",
       "    <tr>\n",
       "      <th>3</th>\n",
       "      <td>b_end_west</td>\n",
       "      <td>141</td>\n",
       "      <td>1938</td>\n",
       "    </tr>\n",
       "    <tr>\n",
       "      <th>4</th>\n",
       "      <td>b_g</td>\n",
       "      <td>1725</td>\n",
       "      <td>771</td>\n",
       "    </tr>\n",
       "  </tbody>\n",
       "</table>\n",
       "</div>"
      ],
      "text/plain": [
       "           id     X     Y\n",
       "0        b_bv  1486   732\n",
       "1        b_bw   716  1357\n",
       "2  b_end_east  3164  1111\n",
       "3  b_end_west   141  1938\n",
       "4         b_g  1725   771"
      ]
     },
     "execution_count": 3,
     "metadata": {},
     "output_type": "execute_result"
    }
   ],
   "source": [
    "nodelist.head()"
   ]
  },
  {
   "cell_type": "code",
   "execution_count": 4,
   "metadata": {
    "collapsed": false
   },
   "outputs": [
    {
     "data": {
      "text/plain": [
       "(77, 3)"
      ]
     },
     "execution_count": 4,
     "metadata": {},
     "output_type": "execute_result"
    }
   ],
   "source": [
    "nodelist.shape"
   ]
  },
  {
   "cell_type": "code",
   "execution_count": 8,
   "metadata": {
    "collapsed": false
   },
   "outputs": [
    {
     "data": {
      "image/png": "[encoded data removed]",
      "text/plain": [
       "<matplotlib.figure.Figure at 0x225ffb686d8>"
      ]
     },
     "metadata": {},
     "output_type": "display_data"
    }
   ],
   "source": [
    "plt.scatter(nodelist.X, nodelist.Y)\n",
    "plt.show()"
   ]
  },
  {
   "cell_type": "code",
   "execution_count": 9,
   "metadata": {
    "collapsed": false
   },
   "outputs": [
    {
     "ename": "KeyError",
     "evalue": "'Ana'",
     "output_type": "error",
     "traceback": [
      "\u001b[0;31m---------------------------------------------------------------------------\u001b[0m",
      "\u001b[0;31mKeyError\u001b[0m                                  Traceback (most recent call last)",
      "\u001b[0;32m<ipython-input-9-9f7a09c51041>\u001b[0m in \u001b[0;36m<module>\u001b[0;34m()\u001b[0m\n\u001b[1;32m      8\u001b[0m \u001b[0mG\u001b[0m\u001b[1;33m.\u001b[0m\u001b[0madd_edge\u001b[0m\u001b[1;33m(\u001b[0m\u001b[1;34m'Ana'\u001b[0m\u001b[1;33m,\u001b[0m \u001b[1;34m'Bob'\u001b[0m\u001b[1;33m,\u001b[0m \u001b[0mweight\u001b[0m\u001b[1;33m=\u001b[0m \u001b[1;36m1\u001b[0m\u001b[1;33m,\u001b[0m \u001b[0mrelation\u001b[0m \u001b[1;33m=\u001b[0m \u001b[1;34m'neighbors'\u001b[0m\u001b[1;33m)\u001b[0m\u001b[1;33m\u001b[0m\u001b[0m\n\u001b[1;32m      9\u001b[0m \u001b[1;33m\u001b[0m\u001b[0m\n\u001b[0;32m---> 10\u001b[0;31m \u001b[0mprint\u001b[0m\u001b[1;33m(\u001b[0m \u001b[0mG\u001b[0m\u001b[1;33m.\u001b[0m\u001b[0medge\u001b[0m\u001b[1;33m[\u001b[0m\u001b[1;34m'Bob'\u001b[0m\u001b[1;33m]\u001b[0m\u001b[1;33m[\u001b[0m\u001b[1;34m'Ana'\u001b[0m\u001b[1;33m]\u001b[0m\u001b[1;33m[\u001b[0m\u001b[1;36m1\u001b[0m\u001b[1;33m]\u001b[0m\u001b[1;33m[\u001b[0m\u001b[1;34m'relation'\u001b[0m\u001b[1;33m]\u001b[0m \u001b[1;33m)\u001b[0m\u001b[1;33m\u001b[0m\u001b[0m\n\u001b[0m",
      "\u001b[0;31mKeyError\u001b[0m: 'Ana'"
     ]
    }
   ],
   "source": [
    "import networkx as nx\n",
    "\n",
    "G=nx.MultiDiGraph()\n",
    "\n",
    "G.add_edge('John', 'Ana', weight= 3, relation = 'siblings')\n",
    "G.add_edge('Ana', 'David', weight= 4, relation = 'cousins')\n",
    "G.add_edge('Ana', 'Bob', weight= 1, relation = 'friends')\n",
    "G.add_edge('Ana', 'Bob', weight= 1, relation = 'neighbors')\n",
    "\n",
    "print( G.edge['Bob']['Ana'][1]['relation'] )"
   ]
  },
  {
   "cell_type": "code",
   "execution_count": 12,
   "metadata": {
    "collapsed": true
   },
   "outputs": [],
   "source": [
    "import networkx as nx\n",
    "from networkx.algorithms import bipartite\n",
    "\n",
    "B = nx.Graph()\n",
    "B.add_edges_from([('A', 'G'),('A','I'), ('B','H'), ('C', 'G'), ('C', 'I'),('D', 'H'), ('E', 'I'), ('F', 'G'), ('F', 'J')])\n",
    "X1 = set(['A', 'B', 'C', 'D', 'E', 'F'])"
   ]
  },
  {
   "cell_type": "code",
   "execution_count": 13,
   "metadata": {
    "collapsed": false
   },
   "outputs": [],
   "source": [
    "P=bipartite.weighted_projected_graph(B, X1)"
   ]
  },
  {
   "cell_type": "code",
   "execution_count": null,
   "metadata": {
    "collapsed": true
   },
   "outputs": [],
   "source": [
    "['A']['C']['weight']"
   ]
  },
  {
   "cell_type": "code",
   "execution_count": 14,
   "metadata": {
    "collapsed": false
   },
   "outputs": [
    {
     "data": {
      "text/plain": [
       "[('C', 'E', {'weight': 1}),\n",
       " ('C', 'F', {'weight': 1}),\n",
       " ('C', 'A', {'weight': 2}),\n",
       " ('A', 'E', {'weight': 1}),\n",
       " ('A', 'F', {'weight': 1}),\n",
       " ('D', 'B', {'weight': 1})]"
      ]
     },
     "execution_count": 14,
     "metadata": {},
     "output_type": "execute_result"
    }
   ],
   "source": [
    "P.edges(data=True)"
   ]
  },
  {
   "cell_type": "code",
   "execution_count": null,
   "metadata": {
    "collapsed": true
   },
   "outputs": [],
   "source": []
  }
 ],
 "metadata": {
  "kernelspec": {
   "display_name": "Python [default]",
   "language": "python",
   "name": "python3"
  },
  "language_info": {
   "codemirror_mode": {
    "name": "ipython",
    "version": 3
   },
   "file_extension": ".py",
   "mimetype": "text/x-python",
   "name": "python",
   "nbconvert_exporter": "python",
   "pygments_lexer": "ipython3",
   "version": "3.5.2"
  }
 },
 "nbformat": 4,
 "nbformat_minor": 2
}
