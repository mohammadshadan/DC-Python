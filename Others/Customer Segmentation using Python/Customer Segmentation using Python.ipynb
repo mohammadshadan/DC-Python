{
 "cells": [
  {
   "cell_type": "code",
   "execution_count": 1,
   "metadata": {},
   "outputs": [],
   "source": [
    "import numpy as np\n",
    "import pandas as pd\n",
    "import matplotlib.pyplot as plt\n",
    "%matplotlib inline\n",
    "import seaborn as sns"
   ]
  },
  {
   "cell_type": "code",
   "execution_count": 6,
   "metadata": {},
   "outputs": [],
   "source": [
    "import datetime as dt"
   ]
  },
  {
   "cell_type": "markdown",
   "metadata": {},
   "source": [
    "# Course Description\n",
    "\n",
    "The most successful companies today are the ones that know their customers so well that they can anticipate their needs. Data analysts play a key role in unlocking these in-depth insights, and segmenting the customers to better serve them. In this course, you will learn real-world techniques on customer segmentation and behavioral analytics, using a real dataset containing anonymized customer transactions from an online retailer. You will first run cohort analysis to understand customer trends. \n",
    " - You will then learn how to build easy to interpret customer segments. \n",
    " - On top of that, you will prepare the segments you created, making them ready for machine learning. \n",
    " - Finally, you will make your segments more powerful with k-means clustering, in just few lines of code! \n",
    "\n",
    "By the end of this course, you will be able to apply practical customer behavioral analytics and segmentation techniques."
   ]
  },
  {
   "cell_type": "code",
   "execution_count": 8,
   "metadata": {},
   "outputs": [],
   "source": [
    "#Loading Datasets\n",
    "online = pd.read_csv(\"chapter_1/online.csv\", parse_dates=[\"InvoiceDate\"])"
   ]
  },
  {
   "cell_type": "code",
   "execution_count": 9,
   "metadata": {},
   "outputs": [
    {
     "name": "stdout",
     "output_type": "stream",
     "text": [
      "<class 'pandas.core.frame.DataFrame'>\n",
      "RangeIndex: 70864 entries, 0 to 70863\n",
      "Data columns (total 9 columns):\n",
      "Unnamed: 0     70864 non-null int64\n",
      "InvoiceNo      70864 non-null int64\n",
      "StockCode      70864 non-null object\n",
      "Description    70864 non-null object\n",
      "Quantity       70864 non-null int64\n",
      "InvoiceDate    70864 non-null datetime64[ns]\n",
      "UnitPrice      70864 non-null float64\n",
      "CustomerID     70864 non-null int64\n",
      "Country        70864 non-null object\n",
      "dtypes: datetime64[ns](1), float64(1), int64(4), object(3)\n",
      "memory usage: 4.9+ MB\n"
     ]
    }
   ],
   "source": [
    "online.info()"
   ]
  },
  {
   "cell_type": "code",
   "execution_count": 10,
   "metadata": {},
   "outputs": [
    {
     "data": {
      "text/html": [
       "<div>\n",
       "<style scoped>\n",
       "    .dataframe tbody tr th:only-of-type {\n",
       "        vertical-align: middle;\n",
       "    }\n",
       "\n",
       "    .dataframe tbody tr th {\n",
       "        vertical-align: top;\n",
       "    }\n",
       "\n",
       "    .dataframe thead th {\n",
       "        text-align: right;\n",
       "    }\n",
       "</style>\n",
       "<table border=\"1\" class=\"dataframe\">\n",
       "  <thead>\n",
       "    <tr style=\"text-align: right;\">\n",
       "      <th></th>\n",
       "      <th>Unnamed: 0</th>\n",
       "      <th>InvoiceNo</th>\n",
       "      <th>StockCode</th>\n",
       "      <th>Description</th>\n",
       "      <th>Quantity</th>\n",
       "      <th>InvoiceDate</th>\n",
       "      <th>UnitPrice</th>\n",
       "      <th>CustomerID</th>\n",
       "      <th>Country</th>\n",
       "    </tr>\n",
       "  </thead>\n",
       "  <tbody>\n",
       "    <tr>\n",
       "      <th>0</th>\n",
       "      <td>416792</td>\n",
       "      <td>572558</td>\n",
       "      <td>22745</td>\n",
       "      <td>POPPY'S PLAYHOUSE BEDROOM</td>\n",
       "      <td>6</td>\n",
       "      <td>2011-10-25 08:26:00</td>\n",
       "      <td>2.10</td>\n",
       "      <td>14286</td>\n",
       "      <td>United Kingdom</td>\n",
       "    </tr>\n",
       "    <tr>\n",
       "      <th>1</th>\n",
       "      <td>482904</td>\n",
       "      <td>577485</td>\n",
       "      <td>23196</td>\n",
       "      <td>VINTAGE LEAF MAGNETIC NOTEPAD</td>\n",
       "      <td>1</td>\n",
       "      <td>2011-11-20 11:56:00</td>\n",
       "      <td>1.45</td>\n",
       "      <td>16360</td>\n",
       "      <td>United Kingdom</td>\n",
       "    </tr>\n",
       "    <tr>\n",
       "      <th>2</th>\n",
       "      <td>263743</td>\n",
       "      <td>560034</td>\n",
       "      <td>23299</td>\n",
       "      <td>FOOD COVER WITH BEADS SET 2</td>\n",
       "      <td>6</td>\n",
       "      <td>2011-07-14 13:35:00</td>\n",
       "      <td>3.75</td>\n",
       "      <td>13933</td>\n",
       "      <td>United Kingdom</td>\n",
       "    </tr>\n",
       "    <tr>\n",
       "      <th>3</th>\n",
       "      <td>495549</td>\n",
       "      <td>578307</td>\n",
       "      <td>72349B</td>\n",
       "      <td>SET/6 PURPLE BUTTERFLY T-LIGHTS</td>\n",
       "      <td>1</td>\n",
       "      <td>2011-11-23 15:53:00</td>\n",
       "      <td>2.10</td>\n",
       "      <td>17290</td>\n",
       "      <td>United Kingdom</td>\n",
       "    </tr>\n",
       "    <tr>\n",
       "      <th>4</th>\n",
       "      <td>204384</td>\n",
       "      <td>554656</td>\n",
       "      <td>21756</td>\n",
       "      <td>BATH BUILDING BLOCK WORD</td>\n",
       "      <td>3</td>\n",
       "      <td>2011-05-25 13:36:00</td>\n",
       "      <td>5.95</td>\n",
       "      <td>17663</td>\n",
       "      <td>United Kingdom</td>\n",
       "    </tr>\n",
       "  </tbody>\n",
       "</table>\n",
       "</div>"
      ],
      "text/plain": [
       "   Unnamed: 0  InvoiceNo StockCode                      Description  Quantity  \\\n",
       "0      416792     572558     22745       POPPY'S PLAYHOUSE BEDROOM          6   \n",
       "1      482904     577485     23196    VINTAGE LEAF MAGNETIC NOTEPAD         1   \n",
       "2      263743     560034     23299     FOOD COVER WITH BEADS SET 2          6   \n",
       "3      495549     578307    72349B  SET/6 PURPLE BUTTERFLY T-LIGHTS         1   \n",
       "4      204384     554656     21756         BATH BUILDING BLOCK WORD         3   \n",
       "\n",
       "          InvoiceDate  UnitPrice  CustomerID         Country  \n",
       "0 2011-10-25 08:26:00       2.10       14286  United Kingdom  \n",
       "1 2011-11-20 11:56:00       1.45       16360  United Kingdom  \n",
       "2 2011-07-14 13:35:00       3.75       13933  United Kingdom  \n",
       "3 2011-11-23 15:53:00       2.10       17290  United Kingdom  \n",
       "4 2011-05-25 13:36:00       5.95       17663  United Kingdom  "
      ]
     },
     "execution_count": 10,
     "metadata": {},
     "output_type": "execute_result"
    }
   ],
   "source": [
    "online.head()"
   ]
  },
  {
   "cell_type": "markdown",
   "metadata": {},
   "source": [
    "# 1. Cohort Analysis\n",
    "\n",
    "In this first chapter, you will learn about cohorts and how to analyze them. You will create your own customer cohorts, get some metrics and visualize your results."
   ]
  },
  {
   "cell_type": "markdown",
   "metadata": {},
   "source": [
    "## Introduction to Cohort Analysis - Video"
   ]
  },
  {
   "cell_type": "markdown",
   "metadata": {},
   "source": [
    "How many customers acquired?\n",
    "We have printed the cohort_counts table you've seen in the video. How many customers have made their first transaction in January 2011?\n",
    "\n",
    "Instructions\n",
    "\n",
    " - 291\n",
    " - 716\n",
    " - 332 (Correct)\n",
    " - None"
   ]
  },
  {
   "cell_type": "markdown",
   "metadata": {},
   "source": [
    "## Cohort Analysis - Video"
   ]
  },
  {
   "cell_type": "markdown",
   "metadata": {},
   "source": [
    "### Assign daily acquisition cohort\n",
    "As you have seen in the video, defining a cohort is the first step to cohort analysis. You will now create daily cohorts based on the day each customer has made their first transaction.\n",
    "\n",
    "The data has been loaded as online DataFrame, you can now print its header with online.head() in the console.\n",
    "\n",
    "Instructions\n",
    "100 XP\n",
    " - Create a function by passing a datetime object extracting year, month and day from x.\n",
    " - Create a InvoiceDay column by passing the InvoiceDate columns and applying the get_day function.\n",
    " - Create a groupby object that groups CustomerID variable, and selects InvoiceDay for further calculations.\n",
    " - Create a CohortDay column by selecting the minimum InvoiceDay value."
   ]
  },
  {
   "cell_type": "code",
   "execution_count": 11,
   "metadata": {},
   "outputs": [
    {
     "name": "stdout",
     "output_type": "stream",
     "text": [
      "   Unnamed: 0  InvoiceNo StockCode                      Description  Quantity  \\\n",
      "0      416792     572558     22745       POPPY'S PLAYHOUSE BEDROOM          6   \n",
      "1      482904     577485     23196    VINTAGE LEAF MAGNETIC NOTEPAD         1   \n",
      "2      263743     560034     23299     FOOD COVER WITH BEADS SET 2          6   \n",
      "3      495549     578307    72349B  SET/6 PURPLE BUTTERFLY T-LIGHTS         1   \n",
      "4      204384     554656     21756         BATH BUILDING BLOCK WORD         3   \n",
      "\n",
      "          InvoiceDate  UnitPrice  CustomerID         Country InvoiceDay  \\\n",
      "0 2011-10-25 08:26:00       2.10       14286  United Kingdom 2011-10-25   \n",
      "1 2011-11-20 11:56:00       1.45       16360  United Kingdom 2011-11-20   \n",
      "2 2011-07-14 13:35:00       3.75       13933  United Kingdom 2011-07-14   \n",
      "3 2011-11-23 15:53:00       2.10       17290  United Kingdom 2011-11-23   \n",
      "4 2011-05-25 13:36:00       5.95       17663  United Kingdom 2011-05-25   \n",
      "\n",
      "   CohortDay  \n",
      "0 2011-04-11  \n",
      "1 2011-09-12  \n",
      "2 2011-07-14  \n",
      "3 2011-11-23  \n",
      "4 2011-02-25  \n"
     ]
    }
   ],
   "source": [
    "# Define a function that will parse the date\n",
    "def get_day(x): return dt.datetime(x.year, x.month, x.day) \n",
    "\n",
    "# Create InvoiceDay column\n",
    "online['InvoiceDay'] = online['InvoiceDate'].apply(get_day) \n",
    "\n",
    "# Group by CustomerID and select the InvoiceDay value\n",
    "grouping = online.groupby('CustomerID')['InvoiceDay'] \n",
    "\n",
    "# Assign a minimum InvoiceDay value to the dataset\n",
    "online['CohortDay'] = grouping.transform('min')\n",
    "\n",
    "# View the top 5 rows\n",
    "print(online.head())"
   ]
  },
  {
   "cell_type": "code",
   "execution_count": 51,
   "metadata": {},
   "outputs": [
    {
     "name": "stdout",
     "output_type": "stream",
     "text": [
      "   Unnamed: 0  InvoiceNo StockCode                      Description  Quantity  \\\n",
      "0      416792     572558     22745       POPPY'S PLAYHOUSE BEDROOM          6   \n",
      "1      482904     577485     23196    VINTAGE LEAF MAGNETIC NOTEPAD         1   \n",
      "2      263743     560034     23299     FOOD COVER WITH BEADS SET 2          6   \n",
      "3      495549     578307    72349B  SET/6 PURPLE BUTTERFLY T-LIGHTS         1   \n",
      "4      204384     554656     21756         BATH BUILDING BLOCK WORD         3   \n",
      "\n",
      "          InvoiceDate  UnitPrice  CustomerID         Country InvoiceDay  \\\n",
      "0 2011-10-25 08:26:00       2.10       14286  United Kingdom 2011-10-25   \n",
      "1 2011-11-20 11:56:00       1.45       16360  United Kingdom 2011-11-20   \n",
      "2 2011-07-14 13:35:00       3.75       13933  United Kingdom 2011-07-14   \n",
      "3 2011-11-23 15:53:00       2.10       17290  United Kingdom 2011-11-23   \n",
      "4 2011-05-25 13:36:00       5.95       17663  United Kingdom 2011-05-25   \n",
      "\n",
      "   CohortDay  CohortIndex InvoiceMonth CohortMonth  \n",
      "0 2011-04-11            7   2011-10-01  2011-04-01  \n",
      "1 2011-09-12            3   2011-11-01  2011-09-01  \n",
      "2 2011-07-14            1   2011-07-01  2011-07-01  \n",
      "3 2011-11-23            1   2011-11-01  2011-11-01  \n",
      "4 2011-02-25            4   2011-05-01  2011-02-01  \n"
     ]
    }
   ],
   "source": [
    "# Additional, on the similar lines create the get_month and find the cohort month e.g. 2017-11-16 as 2017-11-01\n",
    "# Define a function that will parse the date\n",
    "def get_month(x): return dt.datetime(x.year, x.month, 1) \n",
    "\n",
    "# Create InvoiceDay column\n",
    "online['InvoiceMonth'] = online['InvoiceDate'].apply(get_month) \n",
    "\n",
    "# Group by CustomerID and select the InvoiceDay value\n",
    "grouping = online.groupby('CustomerID')['InvoiceMonth'] \n",
    "\n",
    "# Assign a minimum InvoiceDay value to the dataset\n",
    "online['CohortMonth'] = grouping.transform('min')\n",
    "\n",
    "# View the top 5 rows\n",
    "print(online.head())"
   ]
  },
  {
   "cell_type": "code",
   "execution_count": 52,
   "metadata": {},
   "outputs": [
    {
     "name": "stdout",
     "output_type": "stream",
     "text": [
      "<class 'pandas.core.frame.DataFrame'>\n",
      "RangeIndex: 70864 entries, 0 to 70863\n",
      "Data columns (total 14 columns):\n",
      "Unnamed: 0      70864 non-null int64\n",
      "InvoiceNo       70864 non-null int64\n",
      "StockCode       70864 non-null object\n",
      "Description     70864 non-null object\n",
      "Quantity        70864 non-null int64\n",
      "InvoiceDate     70864 non-null datetime64[ns]\n",
      "UnitPrice       70864 non-null float64\n",
      "CustomerID      70864 non-null int64\n",
      "Country         70864 non-null object\n",
      "InvoiceDay      70864 non-null datetime64[ns]\n",
      "CohortDay       70864 non-null datetime64[ns]\n",
      "CohortIndex     70864 non-null int64\n",
      "InvoiceMonth    70864 non-null datetime64[ns]\n",
      "CohortMonth     70864 non-null datetime64[ns]\n",
      "dtypes: datetime64[ns](5), float64(1), int64(5), object(3)\n",
      "memory usage: 7.6+ MB\n"
     ]
    }
   ],
   "source": [
    "#just to check the dtype of CohortDay\n",
    "online.info()"
   ]
  },
  {
   "cell_type": "markdown",
   "metadata": {},
   "source": [
    "Great work! Now each customer belongs to a daily acquisition cohort that you can use for further analysis!"
   ]
  },
  {
   "cell_type": "markdown",
   "metadata": {},
   "source": [
    "### Calculate time offset in days - part 1\n",
    "Calculating time offset for each transaction allows you to report the metrics for each cohort in a comparable fashion.\n",
    "\n",
    "First, we will create 6 variables that capture the integer value of years, months and days for Invoice and Cohort Date using the get_date_int() function that's been already defined for you:\n",
    "\n",
    "`def get_date_int(df, column):\n",
    "    year = df[column].dt.year\n",
    "    month = df[column].dt.month\n",
    "    day = df[column].dt.day\n",
    "    return year, month, day`\n",
    "\n",
    "The online data has been loaded, you can print its header to the console by calling online.head().\n",
    "\n",
    "Instructions\n",
    "\n",
    " - Create `invoice_year`, `invoice_month`, `invoice_day` objects by calling get_date_int function on `InvoiceDay` column.\n",
    " - Create `cohort_year`, `cohort_month`, `cohort_day` objects by calling get_date_int function on `CohortDay` column."
   ]
  },
  {
   "cell_type": "code",
   "execution_count": 14,
   "metadata": {},
   "outputs": [],
   "source": [
    "def get_date_int(df, column):\n",
    "    year = df[column].dt.year\n",
    "    month = df[column].dt.month\n",
    "    day = df[column].dt.day\n",
    "    return year, month, day"
   ]
  },
  {
   "cell_type": "code",
   "execution_count": 15,
   "metadata": {},
   "outputs": [],
   "source": [
    "# Get the integers for date parts from the `InvoiceDay` column\n",
    "invoice_year, invoice_month, invoice_day = get_date_int(online, \"InvoiceDay\")\n",
    "\n",
    "# Get the integers for date parts from the `CohortDay` column\n",
    "cohort_year, cohort_month, cohort_day = get_date_int(online, \"CohortDay\")"
   ]
  },
  {
   "cell_type": "markdown",
   "metadata": {},
   "source": [
    "Great stuff! Now you will use these integer values to calculate business metrics for our time cohorts!"
   ]
  },
  {
   "cell_type": "markdown",
   "metadata": {},
   "source": [
    "### Calculate time offset in days - part 2\n",
    "Great work! Now, we have six different data sets with year, month and day values for Invoice and Cohort dates - invoice_year, cohort_year, invoice_month, cohort_month, invoice_day, and cohort_day.\n",
    "\n",
    "In this exercise you will calculate the difference between the Invoice and Cohort dates in years, months and days separately and then calculate the total days difference between the two. This will be your days offset which we will use in the next exercise to visualize the customer count. The online data has been loaded, you can print its header to the console by calling online.head().\n",
    "\n",
    "Instructions\n",
    "\n",
    " - Find the difference in years between the moment of the invoice and the moment the cohort was created.\n",
    " - Find the difference in months between the moment of the invoice and the moment the cohort was created.\n",
    " - Find the difference in days between the moment of the invoice and the moment the cohort was created.\n",
    " - Calculate the number of days for the CohortIndex (assume 365 days in a year, and 30 days in a month)."
   ]
  },
  {
   "cell_type": "code",
   "execution_count": 24,
   "metadata": {},
   "outputs": [
    {
     "name": "stdout",
     "output_type": "stream",
     "text": [
      "   Unnamed: 0  InvoiceNo StockCode                      Description  Quantity  \\\n",
      "0      416792     572558     22745       POPPY'S PLAYHOUSE BEDROOM          6   \n",
      "1      482904     577485     23196    VINTAGE LEAF MAGNETIC NOTEPAD         1   \n",
      "2      263743     560034     23299     FOOD COVER WITH BEADS SET 2          6   \n",
      "3      495549     578307    72349B  SET/6 PURPLE BUTTERFLY T-LIGHTS         1   \n",
      "4      204384     554656     21756         BATH BUILDING BLOCK WORD         3   \n",
      "\n",
      "          InvoiceDate  UnitPrice  CustomerID         Country InvoiceDay  \\\n",
      "0 2011-10-25 08:26:00       2.10       14286  United Kingdom 2011-10-25   \n",
      "1 2011-11-20 11:56:00       1.45       16360  United Kingdom 2011-11-20   \n",
      "2 2011-07-14 13:35:00       3.75       13933  United Kingdom 2011-07-14   \n",
      "3 2011-11-23 15:53:00       2.10       17290  United Kingdom 2011-11-23   \n",
      "4 2011-05-25 13:36:00       5.95       17663  United Kingdom 2011-05-25   \n",
      "\n",
      "   CohortDay  CohortIndex  \n",
      "0 2011-04-11          195  \n",
      "1 2011-09-12           69  \n",
      "2 2011-07-14            1  \n",
      "3 2011-11-23            1  \n",
      "4 2011-02-25           91  \n"
     ]
    }
   ],
   "source": [
    "# Calculate difference in years\n",
    "years_diff = invoice_year - cohort_year\n",
    "\n",
    "# Calculate difference in months\n",
    "months_diff = invoice_month - cohort_month\n",
    "\n",
    "# Calculate difference in days\n",
    "days_diff = invoice_day - cohort_day\n",
    "\n",
    "# Extract the difference in days from all previous values\n",
    "online['CohortIndex'] = years_diff * 365 + months_diff * 30 + days_diff + 1\n",
    "print(online.head())"
   ]
  },
  {
   "cell_type": "code",
   "execution_count": 26,
   "metadata": {},
   "outputs": [
    {
     "data": {
      "text/html": [
       "<div>\n",
       "<style scoped>\n",
       "    .dataframe tbody tr th:only-of-type {\n",
       "        vertical-align: middle;\n",
       "    }\n",
       "\n",
       "    .dataframe tbody tr th {\n",
       "        vertical-align: top;\n",
       "    }\n",
       "\n",
       "    .dataframe thead th {\n",
       "        text-align: right;\n",
       "    }\n",
       "</style>\n",
       "<table border=\"1\" class=\"dataframe\">\n",
       "  <thead>\n",
       "    <tr style=\"text-align: right;\">\n",
       "      <th></th>\n",
       "      <th>Unnamed: 0</th>\n",
       "      <th>InvoiceNo</th>\n",
       "      <th>StockCode</th>\n",
       "      <th>Description</th>\n",
       "      <th>Quantity</th>\n",
       "      <th>InvoiceDate</th>\n",
       "      <th>UnitPrice</th>\n",
       "      <th>CustomerID</th>\n",
       "      <th>Country</th>\n",
       "      <th>InvoiceDay</th>\n",
       "      <th>CohortDay</th>\n",
       "      <th>CohortIndex</th>\n",
       "    </tr>\n",
       "  </thead>\n",
       "  <tbody>\n",
       "    <tr>\n",
       "      <th>0</th>\n",
       "      <td>416792</td>\n",
       "      <td>572558</td>\n",
       "      <td>22745</td>\n",
       "      <td>POPPY'S PLAYHOUSE BEDROOM</td>\n",
       "      <td>6</td>\n",
       "      <td>2011-10-25 08:26:00</td>\n",
       "      <td>2.10</td>\n",
       "      <td>14286</td>\n",
       "      <td>United Kingdom</td>\n",
       "      <td>2011-10-25</td>\n",
       "      <td>2011-04-11</td>\n",
       "      <td>195</td>\n",
       "    </tr>\n",
       "    <tr>\n",
       "      <th>1</th>\n",
       "      <td>482904</td>\n",
       "      <td>577485</td>\n",
       "      <td>23196</td>\n",
       "      <td>VINTAGE LEAF MAGNETIC NOTEPAD</td>\n",
       "      <td>1</td>\n",
       "      <td>2011-11-20 11:56:00</td>\n",
       "      <td>1.45</td>\n",
       "      <td>16360</td>\n",
       "      <td>United Kingdom</td>\n",
       "      <td>2011-11-20</td>\n",
       "      <td>2011-09-12</td>\n",
       "      <td>69</td>\n",
       "    </tr>\n",
       "    <tr>\n",
       "      <th>2</th>\n",
       "      <td>263743</td>\n",
       "      <td>560034</td>\n",
       "      <td>23299</td>\n",
       "      <td>FOOD COVER WITH BEADS SET 2</td>\n",
       "      <td>6</td>\n",
       "      <td>2011-07-14 13:35:00</td>\n",
       "      <td>3.75</td>\n",
       "      <td>13933</td>\n",
       "      <td>United Kingdom</td>\n",
       "      <td>2011-07-14</td>\n",
       "      <td>2011-07-14</td>\n",
       "      <td>1</td>\n",
       "    </tr>\n",
       "    <tr>\n",
       "      <th>3</th>\n",
       "      <td>495549</td>\n",
       "      <td>578307</td>\n",
       "      <td>72349B</td>\n",
       "      <td>SET/6 PURPLE BUTTERFLY T-LIGHTS</td>\n",
       "      <td>1</td>\n",
       "      <td>2011-11-23 15:53:00</td>\n",
       "      <td>2.10</td>\n",
       "      <td>17290</td>\n",
       "      <td>United Kingdom</td>\n",
       "      <td>2011-11-23</td>\n",
       "      <td>2011-11-23</td>\n",
       "      <td>1</td>\n",
       "    </tr>\n",
       "    <tr>\n",
       "      <th>4</th>\n",
       "      <td>204384</td>\n",
       "      <td>554656</td>\n",
       "      <td>21756</td>\n",
       "      <td>BATH BUILDING BLOCK WORD</td>\n",
       "      <td>3</td>\n",
       "      <td>2011-05-25 13:36:00</td>\n",
       "      <td>5.95</td>\n",
       "      <td>17663</td>\n",
       "      <td>United Kingdom</td>\n",
       "      <td>2011-05-25</td>\n",
       "      <td>2011-02-25</td>\n",
       "      <td>91</td>\n",
       "    </tr>\n",
       "    <tr>\n",
       "      <th>5</th>\n",
       "      <td>125615</td>\n",
       "      <td>547051</td>\n",
       "      <td>22028</td>\n",
       "      <td>PENNY FARTHING BIRTHDAY CARD</td>\n",
       "      <td>12</td>\n",
       "      <td>2011-03-20 12:06:00</td>\n",
       "      <td>0.42</td>\n",
       "      <td>12902</td>\n",
       "      <td>United Kingdom</td>\n",
       "      <td>2011-03-20</td>\n",
       "      <td>2011-03-20</td>\n",
       "      <td>1</td>\n",
       "    </tr>\n",
       "    <tr>\n",
       "      <th>6</th>\n",
       "      <td>483123</td>\n",
       "      <td>577493</td>\n",
       "      <td>20724</td>\n",
       "      <td>RED RETROSPOT CHARLOTTE BAG</td>\n",
       "      <td>10</td>\n",
       "      <td>2011-11-20 12:13:00</td>\n",
       "      <td>0.85</td>\n",
       "      <td>17323</td>\n",
       "      <td>United Kingdom</td>\n",
       "      <td>2011-11-20</td>\n",
       "      <td>2011-02-20</td>\n",
       "      <td>271</td>\n",
       "    </tr>\n",
       "    <tr>\n",
       "      <th>7</th>\n",
       "      <td>449888</td>\n",
       "      <td>575143</td>\n",
       "      <td>23343</td>\n",
       "      <td>JUMBO BAG VINTAGE CHRISTMAS</td>\n",
       "      <td>10</td>\n",
       "      <td>2011-11-08 15:37:00</td>\n",
       "      <td>2.08</td>\n",
       "      <td>13643</td>\n",
       "      <td>United Kingdom</td>\n",
       "      <td>2011-11-08</td>\n",
       "      <td>2011-09-02</td>\n",
       "      <td>67</td>\n",
       "    </tr>\n",
       "    <tr>\n",
       "      <th>8</th>\n",
       "      <td>127438</td>\n",
       "      <td>547223</td>\n",
       "      <td>22934</td>\n",
       "      <td>BAKING MOULD EASTER EGG WHITE CHOC</td>\n",
       "      <td>2</td>\n",
       "      <td>2011-03-21 15:10:00</td>\n",
       "      <td>2.95</td>\n",
       "      <td>12867</td>\n",
       "      <td>United Kingdom</td>\n",
       "      <td>2011-03-21</td>\n",
       "      <td>2010-12-14</td>\n",
       "      <td>103</td>\n",
       "    </tr>\n",
       "    <tr>\n",
       "      <th>9</th>\n",
       "      <td>189515</td>\n",
       "      <td>553156</td>\n",
       "      <td>21212</td>\n",
       "      <td>PACK OF 72 RETROSPOT CAKE CASES</td>\n",
       "      <td>2</td>\n",
       "      <td>2011-05-13 14:58:00</td>\n",
       "      <td>0.55</td>\n",
       "      <td>17841</td>\n",
       "      <td>United Kingdom</td>\n",
       "      <td>2011-05-13</td>\n",
       "      <td>2010-12-01</td>\n",
       "      <td>168</td>\n",
       "    </tr>\n",
       "  </tbody>\n",
       "</table>\n",
       "</div>"
      ],
      "text/plain": [
       "   Unnamed: 0  InvoiceNo StockCode                         Description  \\\n",
       "0      416792     572558     22745          POPPY'S PLAYHOUSE BEDROOM    \n",
       "1      482904     577485     23196       VINTAGE LEAF MAGNETIC NOTEPAD   \n",
       "2      263743     560034     23299        FOOD COVER WITH BEADS SET 2    \n",
       "3      495549     578307    72349B     SET/6 PURPLE BUTTERFLY T-LIGHTS   \n",
       "4      204384     554656     21756            BATH BUILDING BLOCK WORD   \n",
       "5      125615     547051     22028        PENNY FARTHING BIRTHDAY CARD   \n",
       "6      483123     577493     20724         RED RETROSPOT CHARLOTTE BAG   \n",
       "7      449888     575143     23343        JUMBO BAG VINTAGE CHRISTMAS    \n",
       "8      127438     547223     22934  BAKING MOULD EASTER EGG WHITE CHOC   \n",
       "9      189515     553156     21212     PACK OF 72 RETROSPOT CAKE CASES   \n",
       "\n",
       "   Quantity         InvoiceDate  UnitPrice  CustomerID         Country  \\\n",
       "0         6 2011-10-25 08:26:00       2.10       14286  United Kingdom   \n",
       "1         1 2011-11-20 11:56:00       1.45       16360  United Kingdom   \n",
       "2         6 2011-07-14 13:35:00       3.75       13933  United Kingdom   \n",
       "3         1 2011-11-23 15:53:00       2.10       17290  United Kingdom   \n",
       "4         3 2011-05-25 13:36:00       5.95       17663  United Kingdom   \n",
       "5        12 2011-03-20 12:06:00       0.42       12902  United Kingdom   \n",
       "6        10 2011-11-20 12:13:00       0.85       17323  United Kingdom   \n",
       "7        10 2011-11-08 15:37:00       2.08       13643  United Kingdom   \n",
       "8         2 2011-03-21 15:10:00       2.95       12867  United Kingdom   \n",
       "9         2 2011-05-13 14:58:00       0.55       17841  United Kingdom   \n",
       "\n",
       "  InvoiceDay  CohortDay  CohortIndex  \n",
       "0 2011-10-25 2011-04-11          195  \n",
       "1 2011-11-20 2011-09-12           69  \n",
       "2 2011-07-14 2011-07-14            1  \n",
       "3 2011-11-23 2011-11-23            1  \n",
       "4 2011-05-25 2011-02-25           91  \n",
       "5 2011-03-20 2011-03-20            1  \n",
       "6 2011-11-20 2011-02-20          271  \n",
       "7 2011-11-08 2011-09-02           67  \n",
       "8 2011-03-21 2010-12-14          103  \n",
       "9 2011-05-13 2010-12-01          168  "
      ]
     },
     "execution_count": 26,
     "metadata": {},
     "output_type": "execute_result"
    }
   ],
   "source": [
    "online.head(10)"
   ]
  },
  {
   "cell_type": "code",
   "execution_count": 32,
   "metadata": {},
   "outputs": [
    {
     "data": {
      "text/plain": [
       "0   198 days\n",
       "1    70 days\n",
       "2     1 days\n",
       "3     1 days\n",
       "4    90 days\n",
       "5     1 days\n",
       "6   274 days\n",
       "7    68 days\n",
       "8    98 days\n",
       "9   164 days\n",
       "dtype: timedelta64[ns]"
      ]
     },
     "execution_count": 32,
     "metadata": {},
     "output_type": "execute_result"
    }
   ],
   "source": [
    "#Above objective of finding the number of days between InvoiceDay and CohortDay can be found as below whichi is a better method\n",
    "days = (online.InvoiceDay- online.CohortDay) + dt.timedelta(1)\n",
    "days.head(10)"
   ]
  },
  {
   "cell_type": "code",
   "execution_count": 33,
   "metadata": {},
   "outputs": [
    {
     "name": "stdout",
     "output_type": "stream",
     "text": [
      "<class 'pandas.core.frame.DataFrame'>\n",
      "RangeIndex: 70864 entries, 0 to 70863\n",
      "Data columns (total 12 columns):\n",
      "Unnamed: 0     70864 non-null int64\n",
      "InvoiceNo      70864 non-null int64\n",
      "StockCode      70864 non-null object\n",
      "Description    70864 non-null object\n",
      "Quantity       70864 non-null int64\n",
      "InvoiceDate    70864 non-null datetime64[ns]\n",
      "UnitPrice      70864 non-null float64\n",
      "CustomerID     70864 non-null int64\n",
      "Country        70864 non-null object\n",
      "InvoiceDay     70864 non-null datetime64[ns]\n",
      "CohortDay      70864 non-null datetime64[ns]\n",
      "CohortIndex    70864 non-null int64\n",
      "dtypes: datetime64[ns](3), float64(1), int64(5), object(3)\n",
      "memory usage: 6.5+ MB\n"
     ]
    }
   ],
   "source": [
    "online.info()"
   ]
  },
  {
   "cell_type": "markdown",
   "metadata": {},
   "source": [
    "Keep it up! You have successfully assigned the daily time offset to each transaction and can use it for running daily cohort analysis!"
   ]
  },
  {
   "cell_type": "code",
   "execution_count": 35,
   "metadata": {},
   "outputs": [],
   "source": [
    "#online['CohortIndex'].astype(int)"
   ]
  },
  {
   "cell_type": "markdown",
   "metadata": {},
   "source": [
    "### Customer retention\n",
    "Customer retention is a very useful metric to understand how many of the all customers are still active. Which of the following best describes customer retention?\n",
    "\n",
    "Instructions\n",
    "\n",
    "Possible Answers\n",
    " - Percentage of active customers out of total customers (Correct)\n",
    " - Percentage of active customers compared to a previous month\n",
    " - Number of average active customers each month\n",
    " - Active customers on the first month"
   ]
  },
  {
   "cell_type": "markdown",
   "metadata": {},
   "source": [
    "Correct! Retention gives you the percentage of active customers compared to the total number of customers."
   ]
  },
  {
   "cell_type": "markdown",
   "metadata": {},
   "source": [
    "### Calculate retention rate from scratch\n",
    "You have seen how to create retention and average quantity metrics table for the monthly acquisition cohorts. Now it's you time to build the retention metrics by yourself.\n",
    "\n",
    "The online dataset has been loaded to you with monthly cohorts and cohort index assigned from this lesson. Feel free to print it in the Console.\n",
    "\n",
    "Also, we have created a loaded a groupby object as grouping DataFrame with this command:\n",
    "\n",
    "`grouping = online.groupby(['CohortMonth', 'CohortIndex'])`\n",
    "\n",
    "Instructions\n",
    "\n",
    " - Select the customer ID column, count the number of unique values, store it as cohort_data, and reset its index.\n",
    " - Create a pivot with monthly cohort in the index, cohort index in the columns and the customer ID in the values.\n",
    " - Select the first column and store it to cohort_sizes.\n",
    " - Divide the cohort count by cohort sizes along the rows."
   ]
  },
  {
   "cell_type": "code",
   "execution_count": 53,
   "metadata": {},
   "outputs": [],
   "source": [
    "#This code overrides the above \"CohortIndex\" which was based on days. Since we need cohort by month\n",
    "online['CohortIndex'] = years_diff * 12 + months_diff + 1"
   ]
  },
  {
   "cell_type": "code",
   "execution_count": 54,
   "metadata": {},
   "outputs": [],
   "source": [
    "grouping = online.groupby(['CohortMonth', 'CohortIndex'])"
   ]
  },
  {
   "cell_type": "code",
   "execution_count": 55,
   "metadata": {},
   "outputs": [],
   "source": [
    "# Count the number of unique values per customer ID\n",
    "cohort_data = grouping[\"CustomerID\"].apply(pd.Series.nunique).reset_index()\n",
    "    \n",
    "# Create a pivot \n",
    "cohort_counts = cohort_data.pivot(index=\"CohortMonth\", columns=\"CohortIndex\", values=\"CustomerID\")\n",
    "\n",
    "# Select the first column and store it to cohort_sizes\n",
    "cohort_sizes = cohort_counts.iloc[:,0]\n",
    "\n",
    "# Divide the cohort count by cohort sizes along the rows\n",
    "retention = cohort_counts.divide(cohort_sizes, axis=0)"
   ]
  },
  {
   "cell_type": "code",
   "execution_count": 56,
   "metadata": {},
   "outputs": [
    {
     "data": {
      "text/html": [
       "<div>\n",
       "<style scoped>\n",
       "    .dataframe tbody tr th:only-of-type {\n",
       "        vertical-align: middle;\n",
       "    }\n",
       "\n",
       "    .dataframe tbody tr th {\n",
       "        vertical-align: top;\n",
       "    }\n",
       "\n",
       "    .dataframe thead th {\n",
       "        text-align: right;\n",
       "    }\n",
       "</style>\n",
       "<table border=\"1\" class=\"dataframe\">\n",
       "  <thead>\n",
       "    <tr style=\"text-align: right;\">\n",
       "      <th>CohortIndex</th>\n",
       "      <th>1</th>\n",
       "      <th>2</th>\n",
       "      <th>3</th>\n",
       "      <th>4</th>\n",
       "      <th>5</th>\n",
       "      <th>6</th>\n",
       "      <th>7</th>\n",
       "      <th>8</th>\n",
       "      <th>9</th>\n",
       "      <th>10</th>\n",
       "      <th>11</th>\n",
       "      <th>12</th>\n",
       "      <th>13</th>\n",
       "    </tr>\n",
       "    <tr>\n",
       "      <th>CohortMonth</th>\n",
       "      <th></th>\n",
       "      <th></th>\n",
       "      <th></th>\n",
       "      <th></th>\n",
       "      <th></th>\n",
       "      <th></th>\n",
       "      <th></th>\n",
       "      <th></th>\n",
       "      <th></th>\n",
       "      <th></th>\n",
       "      <th></th>\n",
       "      <th></th>\n",
       "      <th></th>\n",
       "    </tr>\n",
       "  </thead>\n",
       "  <tbody>\n",
       "    <tr>\n",
       "      <th>2010-12-01</th>\n",
       "      <td>1.0</td>\n",
       "      <td>0.343575</td>\n",
       "      <td>0.308659</td>\n",
       "      <td>0.350559</td>\n",
       "      <td>0.342179</td>\n",
       "      <td>0.398045</td>\n",
       "      <td>0.347765</td>\n",
       "      <td>0.329609</td>\n",
       "      <td>0.335196</td>\n",
       "      <td>0.370112</td>\n",
       "      <td>0.354749</td>\n",
       "      <td>0.486034</td>\n",
       "      <td>0.240223</td>\n",
       "    </tr>\n",
       "    <tr>\n",
       "      <th>2011-01-01</th>\n",
       "      <td>1.0</td>\n",
       "      <td>0.207831</td>\n",
       "      <td>0.246988</td>\n",
       "      <td>0.243976</td>\n",
       "      <td>0.331325</td>\n",
       "      <td>0.271084</td>\n",
       "      <td>0.246988</td>\n",
       "      <td>0.259036</td>\n",
       "      <td>0.313253</td>\n",
       "      <td>0.307229</td>\n",
       "      <td>0.373494</td>\n",
       "      <td>0.135542</td>\n",
       "      <td>NaN</td>\n",
       "    </tr>\n",
       "    <tr>\n",
       "      <th>2011-02-01</th>\n",
       "      <td>1.0</td>\n",
       "      <td>0.183544</td>\n",
       "      <td>0.180380</td>\n",
       "      <td>0.262658</td>\n",
       "      <td>0.268987</td>\n",
       "      <td>0.234177</td>\n",
       "      <td>0.253165</td>\n",
       "      <td>0.262658</td>\n",
       "      <td>0.272152</td>\n",
       "      <td>0.300633</td>\n",
       "      <td>0.088608</td>\n",
       "      <td>NaN</td>\n",
       "      <td>NaN</td>\n",
       "    </tr>\n",
       "    <tr>\n",
       "      <th>2011-03-01</th>\n",
       "      <td>1.0</td>\n",
       "      <td>0.162371</td>\n",
       "      <td>0.257732</td>\n",
       "      <td>0.195876</td>\n",
       "      <td>0.213918</td>\n",
       "      <td>0.172680</td>\n",
       "      <td>0.252577</td>\n",
       "      <td>0.219072</td>\n",
       "      <td>0.275773</td>\n",
       "      <td>0.097938</td>\n",
       "      <td>NaN</td>\n",
       "      <td>NaN</td>\n",
       "      <td>NaN</td>\n",
       "    </tr>\n",
       "    <tr>\n",
       "      <th>2011-04-01</th>\n",
       "      <td>1.0</td>\n",
       "      <td>0.192157</td>\n",
       "      <td>0.203922</td>\n",
       "      <td>0.192157</td>\n",
       "      <td>0.184314</td>\n",
       "      <td>0.203922</td>\n",
       "      <td>0.219608</td>\n",
       "      <td>0.231373</td>\n",
       "      <td>0.066667</td>\n",
       "      <td>NaN</td>\n",
       "      <td>NaN</td>\n",
       "      <td>NaN</td>\n",
       "      <td>NaN</td>\n",
       "    </tr>\n",
       "    <tr>\n",
       "      <th>2011-05-01</th>\n",
       "      <td>1.0</td>\n",
       "      <td>0.160643</td>\n",
       "      <td>0.172691</td>\n",
       "      <td>0.144578</td>\n",
       "      <td>0.208835</td>\n",
       "      <td>0.232932</td>\n",
       "      <td>0.244980</td>\n",
       "      <td>0.088353</td>\n",
       "      <td>NaN</td>\n",
       "      <td>NaN</td>\n",
       "      <td>NaN</td>\n",
       "      <td>NaN</td>\n",
       "      <td>NaN</td>\n",
       "    </tr>\n",
       "    <tr>\n",
       "      <th>2011-06-01</th>\n",
       "      <td>1.0</td>\n",
       "      <td>0.159420</td>\n",
       "      <td>0.125604</td>\n",
       "      <td>0.198068</td>\n",
       "      <td>0.236715</td>\n",
       "      <td>0.299517</td>\n",
       "      <td>0.091787</td>\n",
       "      <td>NaN</td>\n",
       "      <td>NaN</td>\n",
       "      <td>NaN</td>\n",
       "      <td>NaN</td>\n",
       "      <td>NaN</td>\n",
       "      <td>NaN</td>\n",
       "    </tr>\n",
       "    <tr>\n",
       "      <th>2011-07-01</th>\n",
       "      <td>1.0</td>\n",
       "      <td>0.161850</td>\n",
       "      <td>0.179191</td>\n",
       "      <td>0.219653</td>\n",
       "      <td>0.254335</td>\n",
       "      <td>0.098266</td>\n",
       "      <td>NaN</td>\n",
       "      <td>NaN</td>\n",
       "      <td>NaN</td>\n",
       "      <td>NaN</td>\n",
       "      <td>NaN</td>\n",
       "      <td>NaN</td>\n",
       "      <td>NaN</td>\n",
       "    </tr>\n",
       "    <tr>\n",
       "      <th>2011-08-01</th>\n",
       "      <td>1.0</td>\n",
       "      <td>0.215827</td>\n",
       "      <td>0.201439</td>\n",
       "      <td>0.251799</td>\n",
       "      <td>0.100719</td>\n",
       "      <td>NaN</td>\n",
       "      <td>NaN</td>\n",
       "      <td>NaN</td>\n",
       "      <td>NaN</td>\n",
       "      <td>NaN</td>\n",
       "      <td>NaN</td>\n",
       "      <td>NaN</td>\n",
       "      <td>NaN</td>\n",
       "    </tr>\n",
       "    <tr>\n",
       "      <th>2011-09-01</th>\n",
       "      <td>1.0</td>\n",
       "      <td>0.200717</td>\n",
       "      <td>0.279570</td>\n",
       "      <td>0.121864</td>\n",
       "      <td>NaN</td>\n",
       "      <td>NaN</td>\n",
       "      <td>NaN</td>\n",
       "      <td>NaN</td>\n",
       "      <td>NaN</td>\n",
       "      <td>NaN</td>\n",
       "      <td>NaN</td>\n",
       "      <td>NaN</td>\n",
       "      <td>NaN</td>\n",
       "    </tr>\n",
       "    <tr>\n",
       "      <th>2011-10-01</th>\n",
       "      <td>1.0</td>\n",
       "      <td>0.210692</td>\n",
       "      <td>0.094340</td>\n",
       "      <td>NaN</td>\n",
       "      <td>NaN</td>\n",
       "      <td>NaN</td>\n",
       "      <td>NaN</td>\n",
       "      <td>NaN</td>\n",
       "      <td>NaN</td>\n",
       "      <td>NaN</td>\n",
       "      <td>NaN</td>\n",
       "      <td>NaN</td>\n",
       "      <td>NaN</td>\n",
       "    </tr>\n",
       "    <tr>\n",
       "      <th>2011-11-01</th>\n",
       "      <td>1.0</td>\n",
       "      <td>0.109966</td>\n",
       "      <td>NaN</td>\n",
       "      <td>NaN</td>\n",
       "      <td>NaN</td>\n",
       "      <td>NaN</td>\n",
       "      <td>NaN</td>\n",
       "      <td>NaN</td>\n",
       "      <td>NaN</td>\n",
       "      <td>NaN</td>\n",
       "      <td>NaN</td>\n",
       "      <td>NaN</td>\n",
       "      <td>NaN</td>\n",
       "    </tr>\n",
       "    <tr>\n",
       "      <th>2011-12-01</th>\n",
       "      <td>1.0</td>\n",
       "      <td>NaN</td>\n",
       "      <td>NaN</td>\n",
       "      <td>NaN</td>\n",
       "      <td>NaN</td>\n",
       "      <td>NaN</td>\n",
       "      <td>NaN</td>\n",
       "      <td>NaN</td>\n",
       "      <td>NaN</td>\n",
       "      <td>NaN</td>\n",
       "      <td>NaN</td>\n",
       "      <td>NaN</td>\n",
       "      <td>NaN</td>\n",
       "    </tr>\n",
       "  </tbody>\n",
       "</table>\n",
       "</div>"
      ],
      "text/plain": [
       "CohortIndex   1         2         3         4         5         6         7   \\\n",
       "CohortMonth                                                                    \n",
       "2010-12-01   1.0  0.343575  0.308659  0.350559  0.342179  0.398045  0.347765   \n",
       "2011-01-01   1.0  0.207831  0.246988  0.243976  0.331325  0.271084  0.246988   \n",
       "2011-02-01   1.0  0.183544  0.180380  0.262658  0.268987  0.234177  0.253165   \n",
       "2011-03-01   1.0  0.162371  0.257732  0.195876  0.213918  0.172680  0.252577   \n",
       "2011-04-01   1.0  0.192157  0.203922  0.192157  0.184314  0.203922  0.219608   \n",
       "2011-05-01   1.0  0.160643  0.172691  0.144578  0.208835  0.232932  0.244980   \n",
       "2011-06-01   1.0  0.159420  0.125604  0.198068  0.236715  0.299517  0.091787   \n",
       "2011-07-01   1.0  0.161850  0.179191  0.219653  0.254335  0.098266       NaN   \n",
       "2011-08-01   1.0  0.215827  0.201439  0.251799  0.100719       NaN       NaN   \n",
       "2011-09-01   1.0  0.200717  0.279570  0.121864       NaN       NaN       NaN   \n",
       "2011-10-01   1.0  0.210692  0.094340       NaN       NaN       NaN       NaN   \n",
       "2011-11-01   1.0  0.109966       NaN       NaN       NaN       NaN       NaN   \n",
       "2011-12-01   1.0       NaN       NaN       NaN       NaN       NaN       NaN   \n",
       "\n",
       "CohortIndex        8         9         10        11        12        13  \n",
       "CohortMonth                                                              \n",
       "2010-12-01   0.329609  0.335196  0.370112  0.354749  0.486034  0.240223  \n",
       "2011-01-01   0.259036  0.313253  0.307229  0.373494  0.135542       NaN  \n",
       "2011-02-01   0.262658  0.272152  0.300633  0.088608       NaN       NaN  \n",
       "2011-03-01   0.219072  0.275773  0.097938       NaN       NaN       NaN  \n",
       "2011-04-01   0.231373  0.066667       NaN       NaN       NaN       NaN  \n",
       "2011-05-01   0.088353       NaN       NaN       NaN       NaN       NaN  \n",
       "2011-06-01        NaN       NaN       NaN       NaN       NaN       NaN  \n",
       "2011-07-01        NaN       NaN       NaN       NaN       NaN       NaN  \n",
       "2011-08-01        NaN       NaN       NaN       NaN       NaN       NaN  \n",
       "2011-09-01        NaN       NaN       NaN       NaN       NaN       NaN  \n",
       "2011-10-01        NaN       NaN       NaN       NaN       NaN       NaN  \n",
       "2011-11-01        NaN       NaN       NaN       NaN       NaN       NaN  \n",
       "2011-12-01        NaN       NaN       NaN       NaN       NaN       NaN  "
      ]
     },
     "execution_count": 56,
     "metadata": {},
     "output_type": "execute_result"
    }
   ],
   "source": [
    "retention"
   ]
  },
  {
   "cell_type": "code",
   "execution_count": 60,
   "metadata": {},
   "outputs": [
    {
     "data": {
      "text/plain": [
       "(13, 13)"
      ]
     },
     "execution_count": 60,
     "metadata": {},
     "output_type": "execute_result"
    }
   ],
   "source": [
    "retention.shape"
   ]
  },
  {
   "cell_type": "code",
   "execution_count": 57,
   "metadata": {},
   "outputs": [
    {
     "data": {
      "text/plain": [
       "13"
      ]
     },
     "execution_count": 57,
     "metadata": {},
     "output_type": "execute_result"
    }
   ],
   "source": [
    "len(online.CohortMonth.unique())"
   ]
  },
  {
   "cell_type": "code",
   "execution_count": 58,
   "metadata": {},
   "outputs": [
    {
     "data": {
      "text/plain": [
       "(70864, 14)"
      ]
     },
     "execution_count": 58,
     "metadata": {},
     "output_type": "execute_result"
    }
   ],
   "source": [
    "online.shape"
   ]
  },
  {
   "cell_type": "code",
   "execution_count": 59,
   "metadata": {},
   "outputs": [
    {
     "data": {
      "text/plain": [
       "array(['2011-04-01T00:00:00.000000000', '2011-09-01T00:00:00.000000000',\n",
       "       '2011-07-01T00:00:00.000000000', '2011-11-01T00:00:00.000000000',\n",
       "       '2011-02-01T00:00:00.000000000', '2011-03-01T00:00:00.000000000',\n",
       "       '2010-12-01T00:00:00.000000000', '2011-08-01T00:00:00.000000000',\n",
       "       '2011-06-01T00:00:00.000000000', '2011-01-01T00:00:00.000000000',\n",
       "       '2011-05-01T00:00:00.000000000', '2011-10-01T00:00:00.000000000',\n",
       "       '2011-12-01T00:00:00.000000000'], dtype='datetime64[ns]')"
      ]
     },
     "execution_count": 59,
     "metadata": {},
     "output_type": "execute_result"
    }
   ],
   "source": [
    "online.CohortMonth.unique()"
   ]
  },
  {
   "cell_type": "markdown",
   "metadata": {},
   "source": [
    "Great job, you have built the retention metrics table for monthly cohorts from scratch!"
   ]
  },
  {
   "cell_type": "markdown",
   "metadata": {},
   "source": [
    "### Calculate average price\n",
    "You will now calculate the average price metric and analyze if there are any differences in shopping patterns across time and across cohorts.\n",
    "\n",
    "The online dataset has been loaded to you with monthly cohorts and cohort index assigned from this lesson. Feel free to print it to the Console.\n",
    "\n",
    "Instructions\n",
    "\n",
    " - Create a groupby object and pass the monthly cohort and cohort index as a list.\n",
    " - Select the unit price column, calculate the average, and store it to cohort_data.\n",
    " - Reset the index of cohort_data DataFrame.\n",
    " - Create a pivot with monthly cohort in the index, cohort index in the columns and the unit price in the values, and print the result."
   ]
  },
  {
   "cell_type": "code",
   "execution_count": 61,
   "metadata": {},
   "outputs": [
    {
     "name": "stdout",
     "output_type": "stream",
     "text": [
      "CohortIndex   1    2    3    4    5    6    7    8    9    10   11   12   13\n",
      "CohortMonth                                                                 \n",
      "2010-12-01   3.0  3.0  3.0  2.8  2.7  6.9  2.8  3.0  2.7  2.7  3.0  2.8  2.6\n",
      "2011-01-01   3.2  3.1  3.0  3.0  3.1  3.0  3.0  2.5  2.7  2.9  2.6  2.0  NaN\n",
      "2011-02-01   3.1  4.0  3.3  2.9  3.3  2.9  2.8  2.7  2.9  2.7  3.1  NaN  NaN\n",
      "2011-03-01   3.5  3.6  3.5  2.8  2.7  2.5  2.7  2.9  2.5  2.4  NaN  NaN  NaN\n",
      "2011-04-01   3.3  4.4  3.4  2.6  2.8  2.8  2.8  2.6  2.6  NaN  NaN  NaN  NaN\n",
      "2011-05-01   3.1  2.8  2.5  2.7  2.5  2.3  2.7  2.3  NaN  NaN  NaN  NaN  NaN\n",
      "2011-06-01   2.8  2.4  2.7  3.1  2.5  2.4  2.5  NaN  NaN  NaN  NaN  NaN  NaN\n",
      "2011-07-01   3.2  3.1  3.4  2.5  2.4  2.3  NaN  NaN  NaN  NaN  NaN  NaN  NaN\n",
      "2011-08-01   2.9  3.7  5.4  6.9  4.2  NaN  NaN  NaN  NaN  NaN  NaN  NaN  NaN\n",
      "2011-09-01   2.9  3.1  3.0  2.6  NaN  NaN  NaN  NaN  NaN  NaN  NaN  NaN  NaN\n",
      "2011-10-01   2.9  2.7  2.5  NaN  NaN  NaN  NaN  NaN  NaN  NaN  NaN  NaN  NaN\n",
      "2011-11-01   2.5  2.1  NaN  NaN  NaN  NaN  NaN  NaN  NaN  NaN  NaN  NaN  NaN\n",
      "2011-12-01   1.9  NaN  NaN  NaN  NaN  NaN  NaN  NaN  NaN  NaN  NaN  NaN  NaN\n"
     ]
    }
   ],
   "source": [
    "# Create a groupby object and pass the monthly cohort and cohort index as a list\n",
    "grouping = online.groupby(['CohortMonth', 'CohortIndex'])\n",
    "\n",
    "# Calculate the average of the unit price column\n",
    "cohort_data = grouping[\"UnitPrice\"].mean()\n",
    "\n",
    "# Reset the index of cohort_data\n",
    "cohort_data = cohort_data.reset_index()\n",
    "\n",
    "# Create a pivot \n",
    "average_quantity = cohort_data.pivot(index='CohortMonth', columns='CohortIndex', values=\"UnitPrice\")\n",
    "print(average_quantity.round(1))"
   ]
  },
  {
   "cell_type": "markdown",
   "metadata": {},
   "source": [
    "Great job! You have nailed the cohort analysis and can start creating custom metrics on your own!"
   ]
  },
  {
   "cell_type": "markdown",
   "metadata": {},
   "source": [
    "## Visualizing cohort analysis - Video"
   ]
  },
  {
   "cell_type": "markdown",
   "metadata": {},
   "source": [
    "### Visualize average quantity metric\n",
    "You are now going to visualize average quantity values in a heatmap.\n",
    "\n",
    "We have loaded pandas package as pd, and the average quantity values DataFrame as average_quantity.\n",
    "\n",
    "Please use the console to explore it.\n",
    "\n",
    "Instructions\n",
    "\n",
    " - Import seaborn package as sns.\n",
    " - Initialize an 8 by 6 inches figure.\n",
    " - Add a title.\n",
    " - Create the heatmap of the average quantity values with annotations and show the plot."
   ]
  },
  {
   "cell_type": "code",
   "execution_count": 62,
   "metadata": {},
   "outputs": [
    {
     "data": {
      "image/png": "[encoded data removed]",
      "text/plain": [
       "<Figure size 576x432 with 2 Axes>"
      ]
     },
     "metadata": {
      "needs_background": "light"
     },
     "output_type": "display_data"
    }
   ],
   "source": [
    "# Import seaborn package as sns\n",
    "import seaborn as sns\n",
    "\n",
    "# Initialize an 8 by 6 inches plot figure\n",
    "plt.figure(figsize=(8, 6))\n",
    "\n",
    "# Add a title\n",
    "plt.title('Average Spend by Monthly Cohorts')\n",
    "\n",
    "# Create the heatmap\n",
    "sns.heatmap(average_quantity, annot=True, cmap='Blues')\n",
    "plt.show()"
   ]
  },
  {
   "cell_type": "code",
   "execution_count": 63,
   "metadata": {},
   "outputs": [
    {
     "data": {
      "image/png": "[encoded data removed]",
      "text/plain": [
       "<Figure size 720x576 with 2 Axes>"
      ]
     },
     "metadata": {
      "needs_background": "light"
     },
     "output_type": "display_data"
    }
   ],
   "source": [
    "import matplotlib.pyplot as plt\n",
    "plt.figure(figsize=(10, 8))\n",
    "plt.title('Retention rates')\n",
    "sns.heatmap(data = retention,\n",
    "annot = True,\n",
    "fmt = '.0%',\n",
    "vmin = 0.0,\n",
    "vmax = 0.5,\n",
    "cmap = 'BuGn')\n",
    "plt.show()"
   ]
  },
  {
   "cell_type": "code",
   "execution_count": null,
   "metadata": {},
   "outputs": [],
   "source": []
  }
 ],
 "metadata": {
  "kernelspec": {
   "display_name": "Python 3",
   "language": "python",
   "name": "python3"
  },
  "language_info": {
   "codemirror_mode": {
    "name": "ipython",
    "version": 3
   },
   "file_extension": ".py",
   "mimetype": "text/x-python",
   "name": "python",
   "nbconvert_exporter": "python",
   "pygments_lexer": "ipython3",
   "version": "3.7.0"
  }
 },
 "nbformat": 4,
 "nbformat_minor": 2
}
